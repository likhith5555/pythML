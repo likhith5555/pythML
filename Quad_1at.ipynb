{
 "cells": [
  {
   "cell_type": "code",
   "execution_count": null,
   "id": "4aae6838",
   "metadata": {},
   "outputs": [],
   "source": [
    "import tensorflow as tf\n",
    "import numpy as np\n",
    "from tensorflow import keras"
   ]
  },
  {
   "cell_type": "code",
   "execution_count": null,
   "id": "47ba2475",
   "metadata": {},
   "outputs": [],
   "source": [
    "model = tf.keras.Sequential([keras.layers.Dense(2, input_shape=[3])])"
   ]
  },
  {
   "cell_type": "code",
   "execution_count": null,
   "id": "5fb6fd7b",
   "metadata": {},
   "outputs": [],
   "source": [
    "model.compile(optimizer='adam', \n",
    "              loss='mean_squared_logarithmic_error',\n",
    "              metrics=['mae','accuracy'])"
   ]
  },
  {
   "cell_type": "code",
   "execution_count": null,
   "id": "ff4e8846",
   "metadata": {},
   "outputs": [],
   "source": [
    "model.summary()"
   ]
  },
  {
   "cell_type": "code",
   "execution_count": null,
   "id": "53b1efeb",
   "metadata": {},
   "outputs": [],
   "source": [
    "xs = np.array([], dtype=float)\n",
    "ys = np.array([], dtype=float)"
   ]
  },
  {
   "cell_type": "code",
   "execution_count": null,
   "id": "d3f6b1d3",
   "metadata": {},
   "outputs": [],
   "source": [
    "for i in range(0,100000):\n",
    "    a=np.random.rand()\n",
    "    b=np.random.rand()\n",
    "    c=np.random.rand()\n",
    "    d=b**2-(4*a*c)\n",
    "   \n",
    "    m=(-b+np.sqrt(d))/(2*a)\n",
    "    n=(-b-np.sqrt(d))/(2*a)\n",
    "    np.append(xs,[a,b,c])\n",
    "    np.append(ys,[m,n])"
   ]
  },
  {
   "cell_type": "code",
   "execution_count": null,
   "id": "0b905f6f",
   "metadata": {},
   "outputs": [],
   "source": [
    "print(xs)"
   ]
  },
  {
   "cell_type": "code",
   "execution_count": null,
   "id": "f84e8381",
   "metadata": {},
   "outputs": [],
   "source": [
    "print(model.predict([[5,6,1]]))"
   ]
  }
 ],
 "metadata": {
  "kernelspec": {
   "display_name": "Python 3",
   "language": "python",
   "name": "python3"
  },
  "language_info": {
   "codemirror_mode": {
    "name": "ipython",
    "version": 3
   },
   "file_extension": ".py",
   "mimetype": "text/x-python",
   "name": "python",
   "nbconvert_exporter": "python",
   "pygments_lexer": "ipython3",
   "version": "3.8.11"
  }
 },
 "nbformat": 4,
 "nbformat_minor": 5
}
